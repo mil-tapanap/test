{
  "cells": [
    {
      "cell_type": "markdown",
      "metadata": {
        "id": "view-in-github",
        "colab_type": "text"
      },
      "source": [
        "<a href=\"https://colab.research.google.com/github/mil-tapanap/test/blob/main/unit_testing.ipynb\" target=\"_parent\"><img src=\"https://colab.research.google.com/assets/colab-badge.svg\" alt=\"Open In Colab\"/></a>"
      ]
    },
    {
      "cell_type": "code",
      "execution_count": null,
      "metadata": {
        "id": "F-Of53hzuzBq"
      },
      "outputs": [],
      "source": [
        "def increment(x):\n",
        "    return x + 1\n",
        "\n",
        "def test_increment():\n",
        "    assert increment(3) == 4\n",
        "    assert increment(5) == 6, \"Increment failed\"\n",
        "\n",
        "    #Catch failures with try/except\n",
        "    try:\n",
        "        assert increment(-2) == -1\n",
        "    except AssertionError:\n",
        "        print(\"Incrementing negative number failed\")\n",
        ""
      ]
    },
    {
      "cell_type": "code",
      "execution_count": null,
      "metadata": {
        "id": "Dta_zo5LuzBu"
      },
      "outputs": [],
      "source": [
        "test_increment()"
      ]
    },
    {
      "cell_type": "code",
      "execution_count": null,
      "metadata": {
        "id": "enU8bwibuzBu"
      },
      "outputs": [],
      "source": [
        "def multiply_by_2(x):\n",
        "    return x*2\n",
        "\n",
        "def test_multiply_by_2():\n",
        "    assert multiply_by_2(10) == 20\n",
        "    assert multiply_by_2(8) == 16, \"Multiply failed\"\n",
        "\n",
        "    #Catch failures with try/except\n",
        "    try:\n",
        "        assert multiply_by_2(-2) == -4\n",
        "    except AssertionError:\n",
        "        print(\"Multiply negative number failed\")\n",
        "\n",
        "    try:\n",
        "        assert multiply_by_2(0) == 0\n",
        "    except AssertionError:\n",
        "        print(\"Multiply zero number failed\")"
      ]
    },
    {
      "cell_type": "code",
      "execution_count": null,
      "metadata": {
        "id": "QMGZWoRIuzBv"
      },
      "outputs": [],
      "source": [
        "test_multiply_by_2()"
      ]
    },
    {
      "cell_type": "code",
      "execution_count": null,
      "metadata": {
        "id": "obQrbcINuzBv"
      },
      "outputs": [],
      "source": [
        "def name_input(x):\n",
        "    return x\n",
        "\n",
        "def test_name_input():\n",
        "    assert name_input('Tim') == 'Tim'\n",
        "    assert name_input('BB') == 'CC', \"String input failed\""
      ]
    },
    {
      "cell_type": "code",
      "source": [
        "test_name_input()"
      ],
      "metadata": {
        "id": "1Vkw_ibsu4P0"
      },
      "execution_count": null,
      "outputs": []
    }
  ],
  "metadata": {
    "kernelspec": {
      "display_name": "Python 3",
      "language": "python",
      "name": "python3"
    },
    "language_info": {
      "codemirror_mode": {
        "name": "ipython",
        "version": 3
      },
      "file_extension": ".py",
      "mimetype": "text/x-python",
      "name": "python",
      "nbconvert_exporter": "python",
      "pygments_lexer": "ipython3",
      "version": "3.7.6"
    },
    "colab": {
      "provenance": [],
      "include_colab_link": true
    }
  },
  "nbformat": 4,
  "nbformat_minor": 0
}